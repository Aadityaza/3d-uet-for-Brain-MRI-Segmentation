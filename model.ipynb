{
 "cells": [
  {
   "cell_type": "code",
   "execution_count": 6,
   "metadata": {},
   "outputs": [],
   "source": [
    "import torch\n",
    "import torch.nn as nn\n",
    "\n",
    "class Conv3DBlock(nn.Module):\n",
    "    def __init__(self, in_channels, out_channels, kernel_size=3, padding=1):\n",
    "        super().__init__()\n",
    "        self.conv1 = nn.Conv3d(in_channels, out_channels, kernel_size, padding=padding)\n",
    "        self.bn1 = nn.BatchNorm3d(out_channels)\n",
    "        self.conv2 = nn.Conv3d(out_channels, out_channels, kernel_size, padding=padding)\n",
    "        self.bn2 = nn.BatchNorm3d(out_channels)\n",
    "        self.relu = nn.ReLU(inplace=True)\n",
    "        self.dropout = nn.Dropout3d(0.1)\n",
    "\n",
    "    def forward(self, x):\n",
    "        x = self.relu(self.bn1(self.conv1(x)))\n",
    "        x = self.dropout(x)\n",
    "        x = self.relu(self.bn2(self.conv2(x)))\n",
    "        return x\n",
    "\n",
    "class UNet3D(nn.Module):\n",
    "    def __init__(self, in_channels, num_classes):\n",
    "        super().__init__()\n",
    "        \n",
    "        # Encoder (Contracting Path)\n",
    "        self.encoder1 = Conv3DBlock(in_channels, 16)\n",
    "        self.pool1 = nn.MaxPool3d(2)\n",
    "        self.encoder2 = Conv3DBlock(16, 32)\n",
    "        self.pool2 = nn.MaxPool3d(2)\n",
    "        self.encoder3 = Conv3DBlock(32, 64)\n",
    "        self.pool3 = nn.MaxPool3d(2)\n",
    "        self.encoder4 = Conv3DBlock(64, 128)\n",
    "        self.pool4 = nn.MaxPool3d(2)\n",
    "\n",
    "        # Bridge\n",
    "        self.bridge = Conv3DBlock(128, 256)\n",
    "\n",
    "        # Decoder (Expanding Path)\n",
    "        self.upconv4 = nn.ConvTranspose3d(256, 128, kernel_size=2, stride=2)\n",
    "        self.decoder4 = Conv3DBlock(256, 128)\n",
    "        self.upconv3 = nn.ConvTranspose3d(128, 64, kernel_size=2, stride=2)\n",
    "        self.decoder3 = Conv3DBlock(128, 64)\n",
    "        self.upconv2 = nn.ConvTranspose3d(64, 32, kernel_size=2, stride=2)\n",
    "        self.decoder2 = Conv3DBlock(64, 32)\n",
    "        self.upconv1 = nn.ConvTranspose3d(32, 16, kernel_size=2, stride=2)\n",
    "        self.decoder1 = Conv3DBlock(32, 16)\n",
    "\n",
    "        self.final_conv = nn.Conv3d(16, num_classes, kernel_size=1)\n",
    "        self.softmax = nn.Softmax(dim=1)\n",
    "\n",
    "    def forward(self, x):\n",
    "        # Encoder\n",
    "        enc1 = self.encoder1(x)\n",
    "        enc2 = self.encoder2(self.pool1(enc1))\n",
    "        enc3 = self.encoder3(self.pool2(enc2))\n",
    "        enc4 = self.encoder4(self.pool3(enc3))\n",
    "\n",
    "        # Bridge\n",
    "        bridge = self.bridge(self.pool4(enc4))\n",
    "\n",
    "        # Decoder\n",
    "        dec4 = self.upconv4(bridge)\n",
    "        dec4 = torch.cat((dec4, enc4), dim=1)\n",
    "        dec4 = self.decoder4(dec4)\n",
    "        dec3 = self.upconv3(dec4)\n",
    "        dec3 = torch.cat((dec3, enc3), dim=1)\n",
    "        dec3 = self.decoder3(dec3)\n",
    "        dec2 = self.upconv2(dec3)\n",
    "        dec2 = torch.cat((dec2, enc2), dim=1)\n",
    "        dec2 = self.decoder2(dec2)\n",
    "        dec1 = self.upconv1(dec2)\n",
    "        dec1 = torch.cat((dec1, enc1), dim=1)\n",
    "        dec1 = self.decoder1(dec1)\n",
    "\n",
    "        return self.softmax(self.final_conv(dec1))\n",
    "\n"
   ]
  },
  {
   "cell_type": "code",
   "execution_count": 7,
   "metadata": {},
   "outputs": [
    {
     "name": "stdout",
     "output_type": "stream",
     "text": [
      "Input shape: torch.Size([1, 3, 128, 128, 128])\n",
      "Output shape: torch.Size([1, 4, 128, 128, 128])\n"
     ]
    }
   ],
   "source": [
    "# # Test the model\n",
    "# if __name__ == \"__main__\":\n",
    "#     model = UNet3D(in_channels=3, num_classes=4)\n",
    "#     x = torch.randn(1, 4, 128, 128, 128)\n",
    "#     print(f\"Input shape: {x.shape}\")\n",
    "#     y = model(x)\n",
    "#     print(f\"Output shape: {y.shape}\")"
   ]
  }
 ],
 "metadata": {
  "kernelspec": {
   "display_name": ".venv",
   "language": "python",
   "name": "python3"
  },
  "language_info": {
   "codemirror_mode": {
    "name": "ipython",
    "version": 3
   },
   "file_extension": ".py",
   "mimetype": "text/x-python",
   "name": "python",
   "nbconvert_exporter": "python",
   "pygments_lexer": "ipython3",
   "version": "3.10.11"
  }
 },
 "nbformat": 4,
 "nbformat_minor": 2
}
