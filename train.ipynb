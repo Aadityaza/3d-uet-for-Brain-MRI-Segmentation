{
 "cells": [
  {
   "cell_type": "code",
   "execution_count": 62,
   "metadata": {},
   "outputs": [
    {
     "name": "stdout",
     "output_type": "stream",
     "text": [
      "importing Jupyter notebook from model.ipynb\n",
      "importing Jupyter notebook from data_loader.ipynb\n"
     ]
    }
   ],
   "source": [
    "import import_ipynb\n",
    "from model import UNet3D\n",
    "from data_loader import BrainTumorDataset"
   ]
  },
  {
   "cell_type": "code",
   "execution_count": 68,
   "metadata": {},
   "outputs": [],
   "source": [
    "from torch.utils.data import DataLoader\n",
    "\n",
    "TRAIN_OUTPUT_IMAGE_PATH = '.\\BraTS20\\BraTS2020_TrainingData\\input_data_4channels\\images\\\\'\n",
    "TRAIN_OUTPUT_MASK_PATH = '.\\BraTS20\\BraTS2020_TrainingData\\input_data_4channels\\masks\\\\'\n",
    "VAL_OUTPUT_IMAGE_PATH = '.\\BraTS20\\BraTS2020_TrainingData\\input_data_4channels\\images\\\\'\n",
    "VAL_OUTPUT_MASK_PATH = '.\\BraTS20\\BraTS2020_TrainingData\\input_data_4channels\\masks\\\\'\n",
    "\n",
    "train_dataset = BrainTumorDataset(image_dir, mask_dir)\n",
    "\n",
    "batch_size = 2\n",
    "train_loader = DataLoader(train_dataset, batch_size=batch_size, shuffle=True)"
   ]
  },
  {
   "cell_type": "code",
   "execution_count": 54,
   "metadata": {},
   "outputs": [],
   "source": [
    "import numpy as np\n",
    "wt0, wt1, wt2, wt3 = 0.25,0.25,0.25,0.25\n",
    "import segmentation_models_3D as sm\n",
    "dice_loss = sm.losses.DiceLoss() \n",
    "focal_loss = sm.losses.CategoricalFocalLoss()\n",
    "total_loss = dice_loss + (1 * focal_loss)"
   ]
  },
  {
   "cell_type": "code",
   "execution_count": 64,
   "metadata": {},
   "outputs": [],
   "source": [
    "import torch.optim as optim\n",
    "\n",
    "model = model = UNet3D(4, 4)  \n",
    "LR = 0.0001\n",
    "optimizer = optim.Adam(model.parameters(), lr=LR)"
   ]
  },
  {
   "cell_type": "code",
   "execution_count": null,
   "metadata": {},
   "outputs": [],
   "source": [
    "num_epochs = 100\n",
    "\n",
    "model.train()\n",
    "for epoch in range(num_epochs):\n",
    "    running_loss = 0.0\n",
    "    for batch_idx, (images, masks) in enumerate(train_loader):\n",
    "        images = images.cuda()\n",
    "        masks = masks.cuda()\n",
    "        \n",
    "        optimizer.zero_grad()\n",
    "        outputs = model(images)\n",
    "        \n",
    "        loss = total_loss(outputs, masks)\n",
    "        loss.backward()\n",
    "        optimizer.step()\n",
    "        \n",
    "        running_loss += loss.item()\n",
    "        if batch_idx % 10 == 9:  # Print every 10 batches\n",
    "            print(f'Epoch [{epoch + 1}/{num_epochs}], Step [{batch_idx + 1}/{len(train_loader)}], Loss: {running_loss / 10:.4f}')\n",
    "            running_loss = 0.0\n",
    "\n",
    "print('Finished Training')\n",
    "torch.save(model.state_dict(), '3d_unet_brats.pth')\n"
   ]
  }
 ],
 "metadata": {
  "kernelspec": {
   "display_name": ".venv",
   "language": "python",
   "name": "python3"
  },
  "language_info": {
   "codemirror_mode": {
    "name": "ipython",
    "version": 3
   },
   "file_extension": ".py",
   "mimetype": "text/x-python",
   "name": "python",
   "nbconvert_exporter": "python",
   "pygments_lexer": "ipython3",
   "version": "3.10.11"
  }
 },
 "nbformat": 4,
 "nbformat_minor": 2
}
